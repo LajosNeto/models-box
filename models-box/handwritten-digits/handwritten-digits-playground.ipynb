{
 "cells": [
  {
   "cell_type": "markdown",
   "metadata": {},
   "source": [
    "### Handwritten digits playground"
   ]
  },
  {
   "cell_type": "markdown",
   "metadata": {},
   "source": [
    "### Imports"
   ]
  },
  {
   "cell_type": "code",
   "execution_count": 190,
   "metadata": {},
   "outputs": [],
   "source": [
    "import numpy as np\n",
    "import pandas as pd\n",
    "from keras.datasets import mnist\n",
    "from keras.utils import to_categorical\n",
    "from keras.models import Sequential\n",
    "from keras.layers import Conv2D, AveragePooling2D, Flatten, Dense"
   ]
  },
  {
   "cell_type": "markdown",
   "metadata": {},
   "source": [
    "### Load dataset"
   ]
  },
  {
   "cell_type": "code",
   "execution_count": 197,
   "metadata": {},
   "outputs": [],
   "source": [
    "(train_x, train_y), (test_x, test_y) = mnist.load_data()\n",
    "train_x = np.expand_dims(train_x, axis=3)\n",
    "test_x = np.expand_dims(test_x, axis=3)\n",
    "train_y = to_categorical(train_y)\n",
    "test_y = to_categorical(test_y)"
   ]
  },
  {
   "cell_type": "markdown",
   "metadata": {},
   "source": [
    "### Model"
   ]
  },
  {
   "cell_type": "markdown",
   "metadata": {},
   "source": [
    "#####  LeNet-5"
   ]
  },
  {
   "cell_type": "code",
   "execution_count": 203,
   "metadata": {},
   "outputs": [
    {
     "name": "stdout",
     "output_type": "stream",
     "text": [
      "Model: \"LeNet-5\"\n",
      "_________________________________________________________________\n",
      "Layer (type)                 Output Shape              Param #   \n",
      "=================================================================\n",
      "C1 (Conv2D)                  (None, 24, 24, 6)         156       \n",
      "_________________________________________________________________\n",
      "S2 (AveragePooling2D)        (None, 12, 12, 6)         0         \n",
      "_________________________________________________________________\n",
      "C3 (Conv2D)                  (None, 8, 8, 16)          2416      \n",
      "_________________________________________________________________\n",
      "S4 (AveragePooling2D)        (None, 4, 4, 16)          0         \n",
      "_________________________________________________________________\n",
      "C5 (Conv2D)                  (None, 1, 1, 120)         30840     \n",
      "_________________________________________________________________\n",
      "C5-Flat (Flatten)            (None, 120)               0         \n",
      "_________________________________________________________________\n",
      "C5-Dense (Dense)             (None, 120)               14520     \n",
      "_________________________________________________________________\n",
      "F6 (Dense)                   (None, 84)                10164     \n",
      "_________________________________________________________________\n",
      "Output (Dense)               (None, 10)                850       \n",
      "=================================================================\n",
      "Total params: 58,946\n",
      "Trainable params: 58,946\n",
      "Non-trainable params: 0\n",
      "_________________________________________________________________\n"
     ]
    }
   ],
   "source": [
    "model = Sequential(name='LeNet-5')\n",
    "# Layer C1 (convolution) - 6 feature maps 28x28\n",
    "model.add(Conv2D(6, (5,5), strides=(1,1), input_shape=(28,28,1), name='C1'))\n",
    "\n",
    "# Layer S2 (sub-sampling) - 6 feature maps 14x14\n",
    "model.add(AveragePooling2D(pool_size=(2,2), name='S2'))\n",
    "\n",
    "# Layer C3 (convolution) - 16 feature maps 10x10\n",
    "model.add(Conv2D(16, (5,5), strides=(1,1), name='C3'))\n",
    "\n",
    "# Layer S4 (sub-samlping) - 16 feature maps 5x5\n",
    "model.add(AveragePooling2D(pool_size=(2,2), name='S4'))\n",
    "\n",
    "# Layer C5 (convolution) - 16 feature maps 10x10 - Flattened layer\n",
    "model.add(Conv2D(120, (4,4), strides=(1,1), name='C5'))\n",
    "model.add(Flatten(name='C5-Flat'))\n",
    "model.add(Dense(120, name='C5-Dense'))\n",
    "\n",
    "# Layer F6 - Full connection 84\n",
    "model.add(Dense(84, name='F6'))\n",
    "\n",
    "# Output layer\n",
    "model.add(Dense(10, activation='softmax', name='Output'))\n",
    "\n",
    "model.summary()\n",
    "model.compile(loss='categorical_crossentropy', metrics=['accuracy'], optimizer='adam')"
   ]
  },
  {
   "cell_type": "code",
   "execution_count": null,
   "metadata": {},
   "outputs": [],
   "source": []
  }
 ],
 "metadata": {
  "kernelspec": {
   "display_name": "Python 3",
   "language": "python",
   "name": "python3"
  },
  "language_info": {
   "codemirror_mode": {
    "name": "ipython",
    "version": 3
   },
   "file_extension": ".py",
   "mimetype": "text/x-python",
   "name": "python",
   "nbconvert_exporter": "python",
   "pygments_lexer": "ipython3",
   "version": "3.7.0"
  }
 },
 "nbformat": 4,
 "nbformat_minor": 2
}
